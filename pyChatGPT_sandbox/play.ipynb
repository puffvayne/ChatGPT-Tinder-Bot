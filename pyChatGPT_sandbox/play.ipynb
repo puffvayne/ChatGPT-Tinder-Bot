{
 "cells": [
  {
   "cell_type": "code",
   "execution_count": 1,
   "metadata": {
    "collapsed": true
   },
   "outputs": [
    {
     "name": "stdout",
     "output_type": "stream",
     "text": [
      "eyJhbGciOiJkaXIiLCJlbmMiOiJBMjU2R0NNIn0..Ru8RvnD_yCeOaUK_.1KgzJwLOvowY8KyBav1Ydl-ULT6smXLrl63ntGkJoYV8_EibZ3GWVpup8mP4CICLkOsYp3NR7SYMSLLd2SaLr7UhJKm0DGL785P7QQAa030saVTg4B6kkAWd3nPGkAG0yGhaMTkzvbq7XO_XPCRx6_EjyLWqbFRKme28tvbmiRYnJ51OIItK8qcXw3-hI8bGd7jsQ6_SxZdAV6_hy2IylWTZVFsHUsMaQtkne1z0N1AGwirPQrIwaD8N69Eer1GM66ECOLLQIgj6AAnsMlIJAZGCGO7bNDH97CB94octHzsZarM2m3lAUnUlH-gp8pfBkfFEKEEZdu1ahwPezzM_o___J0Wg29pkb9Is23vD0RhOr2V0U4MwwGoZZj0UChtabMZ2bheFhvSeGlsbzgayXQ3Noe05FmryMyjBH2VAe6Bk6T8pqJD6j6QKmQu15XytpdPM7X0BgSIOQ646dWXhk9PqOdiR4YYoBngPB01jRtJCTHNKFNGn3x5DswNkUGrXBn4OSuYjfikabf6MXxUpUgI_BO6tl3ks7oVGVEBt6CAHMewndaI1GI28YTihO5aQZEoAXhHIEnBKjeMMzQQd5Kpn2_5kVEQmtisXSncUp1e2tqdU2hEseisdPZEI2Lr4KkQvK4QZkKZ_faSY_qz27iRdCoQCb_20UX9GaHMHMEThfqIXnmrrGsLf1GJqF2EGf5ZCYAm4sY5LpMU_152NS4jpEwlbvH3XbQxMEUkrN8OvhLBNhhYvieto77S5oK-isZIAEdNkS2NSaUkr6m5Kc_PWhzpnCL1uFuincSoktxYVJmE9SEbPST6P-YoGMIJeF1BE5SY5mtFZliKSLd7-zRl9plraQ3UorhDLT63Ici3yfmkLFSyXbGt7FHst-i9qrQ78vdNZ6EXIEO_fkZtAn1aXGB9H4dB-qipfxaBrQBRgFQXrKknJ21ewMlzkhIXykOw0agSIbJZ-XMhMb46wJPER3E6uWumoywNkyHDu8L9vcMbGlQ0yFUNpZAOxci7tpy2zXNUe5jHdIX_jW6dOWfKTrrtYE73PZL_NR6AE0i_6TnJUqOAPZDZOekJF4CfeD_NWkPIXvYBqeNuRmw9cRww6cv1Jhw7r7H-xzCi8NUZ66kMYlGaYjQImjmn-QJROWC4b0AD6JoKCQP4wDxmdDeXhVWNaA5GWTugp0QLIfb1XUFJGx1G9cvx4t_QyefbgNAkNFMbaDgi4jBkLMVs-ieg46qpwzokUUO8f-yx_f7n_0vh0y8TFgKhPeDV7CdaLUjdzEKJJi4kXBiCkkTiOkRVBVauPd795oHr7WG2t50a4t7cPR1SPAUhl0iYFz350ch67Y4U4c0kzMqKF2-hCycwHAqiK9mWVYawmFsxbv6N7-VTiTErPBVpvlokPKEbjMY4TRbgO8CiuJTfKqUh6rdUkjoBJyCVA13xWtuQGzbPvUc4k9mbR0UsWSko8x9OjwLH7Yn_a1eyvGHaOBq1BKELn_I_7Lw_gXDZqDHpN0VXDBq03b1QuxztdgwXhzxWJV6cB6O7gsh-i6pC4DrANmnwIKnP1X1MTCELtUoCMPbozHXmePP7yWFrveqpUQlPewDg8IudiB1dmTDY7hpfOTO7s92LOaYPCJISnD5z3fsvHd1wMBgil1_cy6QbS3cxmy-cgbbE1xWytsHZn-XD790WsDnV6l4Is4aJvlftjbNa3JaO0k7uGhf9iifTKOKZQSKw3dlPCQ-e35kC3-GiWkIQ_gTia2M93L2_mbYwodzdLA1ncwhzbvHkwoAU0FOgwAi-io3BHyF7I7YOCruWJEl7jwboyUQXzhocL-S9WrVkW7uyS-9zOsjT6PkpGGADThOHxcrPjJ0TYTA8BqhocQZfWu-RYuzdSBtuD0l-uKJ__pWKwrxl6Ctgp0iXIGkGCYnsBplNsZRh6P48gLPiR2PHnF6tmU-x9YDTRgiH7-k2WlIVQPR9eFMMalhmco3Ph-O-YoTJQK6JxEOL_mdTHPfJY2GDgCbzipLWDW9JdzwV5aDQM805g7MG8piA4F8Kne9uc0GcGu7z6WVbW4BMaLf71gFaL9qSu2yuIWrkdCGjWClMDEPKTHpa67aAvgWBD2YkdV8WN5BlHamYRMEoHU3WjavzVkhewbzS3i7ms93IkLyWLz3JWvwFtZ-N9rr1ueuPtvYu2f1NT99QyAw-Kn0F71xqGHzb_zyoLaIFd-RXl-qyH5o1Cv_aTm8m_nBR40A0DItagBVdOshppgFuRsRlDx25PCHDwRBJdPA0e9NLD3z3D0o8TRnFWokwgwyGS03RQt71ziCATCHYd740sjfo81nmJM4suy-MzGgPeMhvmmOiREGpMFAE3g_rS8QL2OZmPF--M2--Opd7RQBrdZnZ6zerKJnldWCpIbBNgq3RM7JrwSJ-n7t7vG2CNUWSqrax3J6YVkYyEShUXGcl45kPS9ZPluG63Oz-KpH3ChSfiYkfO1duziIrzvu6_dTBbU5ao7uMA_rKBbnEShHLmALz4Ofxsudp6ln7CJhK-cRM8Cgr84BotQnF3FoNfLtEUfBNW2jl9vbN88jW4i3xlj1H-KvOVCcisdnVO62e8edDovCOZjMnXQkJu42nROpy2t-N1fOznhYrnlN_HF6Z7OA7ADX4xIclIvedVeO75lkIN00LQJD9WcUP65arOrnI-.KeI0IRt3UDVikNf6Yw35fg\n"
     ]
    }
   ],
   "source": [
    "import time\n",
    "from pyChatGPT import ChatGPT\n",
    "session_token = open('cookies.txt', 'r').read()\n",
    "print(session_token)"
   ]
  },
  {
   "cell_type": "code",
   "execution_count": 2,
   "outputs": [
    {
     "name": "stderr",
     "output_type": "stream",
     "text": [
      "[__init_browser] Initializing browser...\n",
      "[__init_browser] Restoring session_token...\n",
      "[__init_browser] Ensuring Cloudflare cookies...\n",
      "[__ensure_cf] Opening new tab...\n",
      "[__ensure_cf] Getting Cloudflare challenge...\n",
      "[__ensure_cf] Cloudflare challenge passed\n",
      "[__ensure_cf] Validating authorization...\n",
      "[__ensure_cf] Authorization is valid\n",
      "[__ensure_cf] Closing tab...\n",
      "[__init_browser] Opening chat page...\n",
      "[__check_blocking_elements] Looking for blocking elements...\n",
      "[__check_blocking_elements] Dismissing intro...\n",
      "[__keep_alive] Updating session...\n"
     ]
    }
   ],
   "source": [
    "api = ChatGPT(session_token,chrome_args=['--window-size=1920,768'],verbose=True)"
   ],
   "metadata": {
    "collapsed": false,
    "pycharm": {
     "name": "#%%\n"
    }
   }
  },
  {
   "cell_type": "code",
   "execution_count": 3,
   "outputs": [],
   "source": [
    "# api.clear_conversations()"
   ],
   "metadata": {
    "collapsed": false,
    "pycharm": {
     "name": "#%%\n"
    }
   }
  },
  {
   "cell_type": "code",
   "execution_count": 7,
   "outputs": [
    {
     "name": "stderr",
     "output_type": "stream",
     "text": [
      "[send_message] Ensuring Cloudflare cookies...\n",
      "[__ensure_cf] Opening new tab...\n",
      "[__ensure_cf] Getting Cloudflare challenge...\n",
      "[__ensure_cf] Cloudflare challenge passed\n",
      "[__ensure_cf] Validating authorization...\n",
      "[__ensure_cf] Authorization is valid\n",
      "[__ensure_cf] Closing tab...\n",
      "[send_message] Sending message...\n",
      "[send_message] Waiting for completion...\n",
      "[send_message] Getting response...\n",
      "[reset_conversation] Current URL is not chat page, skipping reset\n"
     ]
    },
    {
     "ename": "AttributeError",
     "evalue": "'NoneType' object has no attribute 'group'",
     "output_type": "error",
     "traceback": [
      "\u001B[1;31m---------------------------------------------------------------------------\u001B[0m",
      "\u001B[1;31mAttributeError\u001B[0m                            Traceback (most recent call last)",
      "Cell \u001B[1;32mIn[7], line 1\u001B[0m\n\u001B[1;32m----> 1\u001B[0m resp \u001B[38;5;241m=\u001B[39m \u001B[43mapi\u001B[49m\u001B[38;5;241;43m.\u001B[39;49m\u001B[43msend_message\u001B[49m\u001B[43m(\u001B[49m\u001B[38;5;124;43m'\u001B[39;49m\u001B[38;5;124;43mHello, world!\u001B[39;49m\u001B[38;5;124;43m'\u001B[39;49m\u001B[43m)\u001B[49m\n\u001B[0;32m      2\u001B[0m \u001B[38;5;66;03m# print(resp['message'])\u001B[39;00m\n\u001B[0;32m      3\u001B[0m \u001B[38;5;66;03m# \u001B[39;00m\n\u001B[0;32m      4\u001B[0m \u001B[38;5;66;03m# api.reset_conversation()  # reset the conversation\u001B[39;00m\n\u001B[0;32m      5\u001B[0m \u001B[38;5;66;03m# api.clear_conversations()  # clear all conversations\u001B[39;00m\n\u001B[0;32m      6\u001B[0m \u001B[38;5;66;03m# api.refresh_chat_page()  # refresh the chat page\u001B[39;00m\n",
      "File \u001B[1;32mD:\\Dev\\anaconda3\\envs\\gtbot\\lib\\site-packages\\pyChatGPT\\pyChatGPT.py:460\u001B[0m, in \u001B[0;36mChatGPT.send_message\u001B[1;34m(self, message, stream)\u001B[0m\n\u001B[0;32m    458\u001B[0m     time\u001B[38;5;241m.\u001B[39msleep(\u001B[38;5;241m0.5\u001B[39m)\n\u001B[0;32m    459\u001B[0m     matches \u001B[38;5;241m=\u001B[39m pattern\u001B[38;5;241m.\u001B[39msearch(\u001B[38;5;28mself\u001B[39m\u001B[38;5;241m.\u001B[39mdriver\u001B[38;5;241m.\u001B[39mcurrent_url)\n\u001B[1;32m--> 460\u001B[0m conversation_id \u001B[38;5;241m=\u001B[39m \u001B[43mmatches\u001B[49m\u001B[38;5;241;43m.\u001B[39;49m\u001B[43mgroup\u001B[49m()\n\u001B[0;32m    461\u001B[0m \u001B[38;5;28;01mreturn\u001B[39;00m {\u001B[38;5;124m'\u001B[39m\u001B[38;5;124mmessage\u001B[39m\u001B[38;5;124m'\u001B[39m: content, \u001B[38;5;124m'\u001B[39m\u001B[38;5;124mconversation_id\u001B[39m\u001B[38;5;124m'\u001B[39m: conversation_id}\n",
      "\u001B[1;31mAttributeError\u001B[0m: 'NoneType' object has no attribute 'group'"
     ]
    }
   ],
   "source": [
    "resp = api.send_message('Hello, world!')\n",
    "# print(resp['message'])\n",
    "#\n",
    "# api.reset_conversation()  # reset the conversation\n",
    "# api.clear_conversations()  # clear all conversations\n",
    "# api.refresh_chat_page()  # refresh the chat page"
   ],
   "metadata": {
    "collapsed": false,
    "pycharm": {
     "name": "#%%\n"
    }
   }
  },
  {
   "cell_type": "code",
   "execution_count": 6,
   "outputs": [
    {
     "ename": "NameError",
     "evalue": "name 'resp' is not defined",
     "output_type": "error",
     "traceback": [
      "\u001B[1;31m---------------------------------------------------------------------------\u001B[0m",
      "\u001B[1;31mNameError\u001B[0m                                 Traceback (most recent call last)",
      "Cell \u001B[1;32mIn[6], line 1\u001B[0m\n\u001B[1;32m----> 1\u001B[0m \u001B[43mresp\u001B[49m\n",
      "\u001B[1;31mNameError\u001B[0m: name 'resp' is not defined"
     ]
    }
   ],
   "source": [
    "resp"
   ],
   "metadata": {
    "collapsed": false,
    "pycharm": {
     "name": "#%%\n"
    }
   }
  },
  {
   "cell_type": "code",
   "execution_count": null,
   "outputs": [],
   "source": [],
   "metadata": {
    "collapsed": false,
    "pycharm": {
     "name": "#%%\n"
    }
   }
  }
 ],
 "metadata": {
  "kernelspec": {
   "display_name": "Python 3",
   "language": "python",
   "name": "python3"
  },
  "language_info": {
   "codemirror_mode": {
    "name": "ipython",
    "version": 2
   },
   "file_extension": ".py",
   "mimetype": "text/x-python",
   "name": "python",
   "nbconvert_exporter": "python",
   "pygments_lexer": "ipython2",
   "version": "2.7.6"
  }
 },
 "nbformat": 4,
 "nbformat_minor": 0
}