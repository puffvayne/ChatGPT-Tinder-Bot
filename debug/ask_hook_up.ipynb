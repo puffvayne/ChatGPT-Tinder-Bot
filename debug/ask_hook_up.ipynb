{
 "cells": [
  {
   "cell_type": "code",
   "execution_count": 3,
   "metadata": {
    "collapsed": true
   },
   "outputs": [
    {
     "name": "stdout",
     "output_type": "stream",
     "text": [
      "[INFO] - append directory to path: D:\\Dev\\Code\\ChatGPT-Tinder-Bot\n"
     ]
    }
   ],
   "source": [
    "import sys\n",
    "import pathlib\n",
    "CURR_DIR = pathlib.Path().resolve()\n",
    "PROJECT_DIR = CURR_DIR.parent\n",
    "sys.path.append(str(PROJECT_DIR))\n",
    "print(f\"[INFO] - append directory to path: {PROJECT_DIR}\")"
   ]
  },
  {
   "cell_type": "code",
   "execution_count": 12,
   "outputs": [],
   "source": [
    "import os\n",
    "import time\n",
    "import random\n",
    "from dotenv import load_dotenv\n",
    "from tinder_bot.tinder import TinderAPI\n",
    "from tinder_bot.utils.log_tool import create_logger"
   ],
   "metadata": {
    "collapsed": false,
    "pycharm": {
     "name": "#%%\n"
    }
   }
  },
  {
   "cell_type": "code",
   "execution_count": 9,
   "outputs": [
    {
     "data": {
      "text/plain": "\u001B[37;44mnew logger name: system, LEVEL: DEBUG \u001B[0m\u001B[1;37;44m(\u001B[0m\u001B[1;36;44m10\u001B[0m\u001B[1;37;44m)\u001B[0m\n",
      "text/html": "<pre style=\"white-space:pre;overflow-x:auto;line-height:normal;font-family:Menlo,'DejaVu Sans Mono',consolas,'Courier New',monospace\"><span style=\"color: #c0c0c0; text-decoration-color: #c0c0c0; background-color: #000080\">new logger name: system, LEVEL: DEBUG </span><span style=\"color: #c0c0c0; text-decoration-color: #c0c0c0; background-color: #000080; font-weight: bold\">(</span><span style=\"color: #008080; text-decoration-color: #008080; background-color: #000080; font-weight: bold\">10</span><span style=\"color: #c0c0c0; text-decoration-color: #c0c0c0; background-color: #000080; font-weight: bold\">)</span>\n</pre>\n"
     },
     "metadata": {},
     "output_type": "display_data"
    },
    {
     "name": "stderr",
     "output_type": "stream",
     "text": [
      "2023-07-29 20:56:45 \u001B[34;1mINFO\u001B[0m \u001B[35msystem\u001B[0m 📝 <RichLogger : system (DEBUG) (no log path)> created\n"
     ]
    }
   ],
   "source": [
    "logger = create_logger('system')"
   ],
   "metadata": {
    "collapsed": false,
    "pycharm": {
     "name": "#%%\n"
    }
   }
  },
  {
   "cell_type": "code",
   "execution_count": 6,
   "outputs": [
    {
     "data": {
      "text/plain": "\u001B[37;44mnew logger name: 💑 TinderAPI-7BDDE4, LEVEL: DEBUG \u001B[0m\u001B[1;37;44m(\u001B[0m\u001B[1;36;44m10\u001B[0m\u001B[1;37;44m)\u001B[0m\n",
      "text/html": "<pre style=\"white-space:pre;overflow-x:auto;line-height:normal;font-family:Menlo,'DejaVu Sans Mono',consolas,'Courier New',monospace\"><span style=\"color: #c0c0c0; text-decoration-color: #c0c0c0; background-color: #000080\">new logger name: 💑 TinderAPI-7BDDE4, LEVEL: DEBUG </span><span style=\"color: #c0c0c0; text-decoration-color: #c0c0c0; background-color: #000080; font-weight: bold\">(</span><span style=\"color: #008080; text-decoration-color: #008080; background-color: #000080; font-weight: bold\">10</span><span style=\"color: #c0c0c0; text-decoration-color: #c0c0c0; background-color: #000080; font-weight: bold\">)</span>\n</pre>\n"
     },
     "metadata": {},
     "output_type": "display_data"
    },
    {
     "name": "stderr",
     "output_type": "stream",
     "text": [
      "2023-07-29 20:52:55 \u001B[34;1mINFO\u001B[0m \u001B[35m💑 TinderAPI-7BDDE4\u001B[0m 📝 <RichLogger : 💑 TinderAPI-7BDDE4 (DEBUG) (no log path)> created\n",
      "2023-07-29 20:52:55 \u001B[34;1mINFO\u001B[0m \u001B[35m💑 TinderAPI-7BDDE4\u001B[0m 📝 initialized: TinderAPI : 629b809ebea8290100b262d8 - Chris\n"
     ]
    }
   ],
   "source": [
    "ENV_FILE_PATH = PROJECT_DIR / 'local_settings/local.env'\n",
    "load_dotenv(ENV_FILE_PATH)\n",
    "TINDER_TOKEN = os.getenv('TINDER_TOKEN')\n",
    "assert ENV_FILE_PATH.exists()\n",
    "assert len(TINDER_TOKEN)\n",
    "tinder_api = TinderAPI(TINDER_TOKEN)"
   ],
   "metadata": {
    "collapsed": false,
    "pycharm": {
     "name": "#%%\n"
    }
   }
  },
  {
   "cell_type": "code",
   "execution_count": 7,
   "outputs": [],
   "source": [
    "# matches = tinder_api.get_matches()"
   ],
   "metadata": {
    "collapsed": false,
    "pycharm": {
     "name": "#%%\n"
    }
   }
  },
  {
   "cell_type": "code",
   "execution_count": 5,
   "outputs": [
    {
     "name": "stdout",
     "output_type": "stream",
     "text": [
      "MSG: 2023-05-11 18:48:12 - *******Me (Chris)*******: 這樣妳還想繼續聊嗎:)?\n",
      "MSG: 2023-05-11 18:48:07 - *******Me (Chris)*******: 先跟妳說一下 我是來約的喔\n",
      "MSG: 2023-05-11 18:48:02 - *******Me (Chris)*******: 為了避免浪費妳的時間\n",
      "MSG: 2023-05-11 18:48:01 - *******Me (Chris)*******: 哈囉 很高興跟妳配對\n"
     ]
    }
   ],
   "source": [
    "# for match in matches:\n",
    "#     if match.person.name != 'Mint':\n",
    "#         continue\n",
    "#     chatroom = tinder_api.get_chatroom(match)\n",
    "#     chatroom.print_messages()"
   ],
   "metadata": {
    "collapsed": false,
    "pycharm": {
     "name": "#%%\n"
    }
   }
  },
  {
   "cell_type": "code",
   "execution_count": 11,
   "outputs": [
    {
     "name": "stderr",
     "output_type": "stream",
     "text": [
      "2023-07-29 20:57:33 \u001B[34;1mINFO\u001B[0m \u001B[35msystem\u001B[0m 📝 Already asked for hook up: Chatroom: 629b809ebea8290100b262d8646a0aee7402b50100d3e029 with Person: 646a0aee7402b50100d3e029 - Wendy (Unknown, -1 km) (2000.08.01)\n",
      "\n",
      "2023-07-29 20:57:34 \u001B[34;1mINFO\u001B[0m \u001B[35msystem\u001B[0m 📝 Already asked for hook up: Chatroom: 629b809ebea8290100b262d864b179a4a86204010093a6be with Person: 64b179a4a86204010093a6be - Nitenite (Unknown, -1 km) (2002.08.01)\n",
      "\n",
      "2023-07-29 20:57:34 \u001B[34;1mINFO\u001B[0m \u001B[35msystem\u001B[0m 📝 Already asked for hook up: Chatroom: 613da493ce39c60100563d09629b809ebea8290100b262d8 with Person: 613da493ce39c60100563d09 - Anita (Unknown, -1 km) (1996.08.01)\n",
      "\n",
      "2023-07-29 20:57:35 \u001B[34;1mINFO\u001B[0m \u001B[35msystem\u001B[0m 📝 Already asked for hook up: Chatroom: 629b809ebea8290100b262d863345d3cea49ad0100820adc with Person: 63345d3cea49ad0100820adc - Apple (Unknown, -1 km) (1997.08.01)\n",
      "\n",
      "2023-07-29 20:57:35 \u001B[34;1mINFO\u001B[0m \u001B[35msystem\u001B[0m 📝 Already asked for hook up: Chatroom: 629b809ebea8290100b262d8648cc855fead910100818dd7 with Person: 648cc855fead910100818dd7 - Yi (Unknown, -1 km) (2002.08.01)\n",
      "\n",
      "2023-07-29 20:57:35 \u001B[34;1mINFO\u001B[0m \u001B[35msystem\u001B[0m 📝 Already asked for hook up: Chatroom: 5d306fba4e8e7716009d4a9c629b809ebea8290100b262d8 with Person: 5d306fba4e8e7716009d4a9c - 名字 (Unknown, -1 km) (1998.08.01)\n",
      "\n",
      "2023-07-29 20:57:35 \u001B[34;1mINFO\u001B[0m \u001B[35msystem\u001B[0m 📝 Already asked for hook up: Chatroom: 58786e6dd94b761b61574ef5629b809ebea8290100b262d8 with Person: 58786e6dd94b761b61574ef5 - Pugun (Unknown, -1 km) (1991.08.01)\n",
      "\n",
      "2023-07-29 20:57:36 \u001B[34;1mINFO\u001B[0m \u001B[35msystem\u001B[0m 📝 Already asked for hook up: Chatroom: 629b809ebea8290100b262d8633d9d89c499f60100932268 with Person: 633d9d89c499f60100932268 - Lusy (Unknown, -1 km) (2001.08.01)\n",
      "\n",
      "2023-07-29 20:57:36 \u001B[34;1mINFO\u001B[0m \u001B[35msystem\u001B[0m 📝 Already asked for hook up: Chatroom: 60a266fca92995010086651e629b809ebea8290100b262d8 with Person: 60a266fca92995010086651e - Grace (Unknown, -1 km) (1947.08.17)\n",
      "\n",
      "2023-07-29 20:57:36 \u001B[34;1mINFO\u001B[0m \u001B[35msystem\u001B[0m 📝 Already asked for hook up: Chatroom: 627c74c9b397090100381ad6629b809ebea8290100b262d8 with Person: 627c74c9b397090100381ad6 - Happy (Unknown, -1 km) (1996.08.01)\n",
      "\n",
      "2023-07-29 20:57:37 \u001B[34;1mINFO\u001B[0m \u001B[35msystem\u001B[0m 📝 Already asked for hook up: Chatroom: 60ffe9ef3f929801000086c5629b809ebea8290100b262d8 with Person: 60ffe9ef3f929801000086c5 - Mary (Unknown, -1 km) (1988.08.01)\n",
      "\n",
      "2023-07-29 20:57:37 \u001B[34;1mINFO\u001B[0m \u001B[35msystem\u001B[0m 📝 finish asking hook up \n",
      "\n"
     ]
    }
   ],
   "source": [
    "if tinder_api is None:\n",
    "    msg = 'failed to ask hook up'\n",
    "    logger.warning(msg)\n",
    "\n",
    "for match in tinder_api.get_matches(limit=60):\n",
    "    chatroom = tinder_api.get_chatroom(match)\n",
    "    if not chatroom.has_asked_hook_up:\n",
    "        tinder_api.ask_hook_up(chatroom)\n",
    "        msg = f\"ASKED hook up to {chatroom}\\n\"\n",
    "        logger.critical(msg)\n",
    "        time.sleep(random.uniform(6, 9))\n",
    "    else:\n",
    "        msg = f\"Already asked for hook up: {chatroom}\\n\"\n",
    "        logger.info(msg)\n",
    "\n",
    "msg = f\"finish asking hook up \\n\"\n",
    "logger.info(msg)"
   ],
   "metadata": {
    "collapsed": false,
    "pycharm": {
     "name": "#%%\n"
    }
   }
  },
  {
   "cell_type": "code",
   "execution_count": null,
   "outputs": [],
   "source": [],
   "metadata": {
    "collapsed": false,
    "pycharm": {
     "name": "#%%\n"
    }
   }
  }
 ],
 "metadata": {
  "kernelspec": {
   "display_name": "Python 3",
   "language": "python",
   "name": "python3"
  },
  "language_info": {
   "codemirror_mode": {
    "name": "ipython",
    "version": 2
   },
   "file_extension": ".py",
   "mimetype": "text/x-python",
   "name": "python",
   "nbconvert_exporter": "python",
   "pygments_lexer": "ipython2",
   "version": "2.7.6"
  }
 },
 "nbformat": 4,
 "nbformat_minor": 0
}