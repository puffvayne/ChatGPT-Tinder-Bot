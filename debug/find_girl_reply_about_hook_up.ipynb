{
 "cells": [
  {
   "cell_type": "code",
   "execution_count": 6,
   "metadata": {
    "collapsed": true
   },
   "outputs": [
    {
     "name": "stdout",
     "output_type": "stream",
     "text": [
      "[INFO] - append directory to path: D:\\Dev\\Code\\ChatGPT-Tinder-Bot\n"
     ]
    }
   ],
   "source": [
    "import sys\n",
    "import pathlib\n",
    "CURR_DIR = pathlib.Path().resolve()\n",
    "PROJECT_DIR = CURR_DIR.parent\n",
    "sys.path.append(str(PROJECT_DIR))\n",
    "print(f\"[INFO] - append directory to path: {PROJECT_DIR}\")"
   ]
  },
  {
   "cell_type": "code",
   "execution_count": 7,
   "outputs": [],
   "source": [
    "import os\n",
    "from dotenv import load_dotenv\n",
    "from src.tinder import TinderAPI"
   ],
   "metadata": {
    "collapsed": false,
    "pycharm": {
     "name": "#%%\n"
    }
   }
  },
  {
   "cell_type": "code",
   "execution_count": 8,
   "outputs": [],
   "source": [
    "ENV_FILE_PATH = PROJECT_DIR / 'local_settings/local.env'\n",
    "load_dotenv(ENV_FILE_PATH)\n",
    "TINDER_TOKEN = os.getenv('TINDER_TOKEN')\n",
    "assert ENV_FILE_PATH.exists()\n",
    "assert len(TINDER_TOKEN)\n",
    "tinder_api = TinderAPI(TINDER_TOKEN)"
   ],
   "metadata": {
    "collapsed": false,
    "pycharm": {
     "name": "#%%\n"
    }
   }
  },
  {
   "cell_type": "code",
   "execution_count": 9,
   "outputs": [],
   "source": [
    "matches = tinder_api.get_matches()"
   ],
   "metadata": {
    "collapsed": false,
    "pycharm": {
     "name": "#%%\n"
    }
   }
  },
  {
   "cell_type": "code",
   "execution_count": 10,
   "outputs": [
    {
     "name": "stdout",
     "output_type": "stream",
     "text": [
      "Chatroom: 5de2b44e13086901006bfd84629b809ebea8290100b262d8 with Person: 5de2b44e13086901006bfd84 - Michelle (Unknown, -1 km) (1996.05.16)\n",
      "True\n",
      "True\n"
     ]
    }
   ],
   "source": [
    "for match in matches:\n",
    "    chatroom = tinder_api.get_chatroom(match)\n",
    "    print(chatroom)\n",
    "    print(chatroom.has_replied_about_hook_up)\n",
    "    print(chatroom.has_ensured_girls_reply)\n",
    "\n",
    "    break\n",
    "    # if chatroom.has_replied_about_hook_up and not chatroom.has_ensured_girls_reply:\n",
    "    #     print(chatroom)"
   ],
   "metadata": {
    "collapsed": false,
    "pycharm": {
     "name": "#%%\n"
    }
   }
  },
  {
   "cell_type": "code",
   "execution_count": 10,
   "outputs": [],
   "source": [],
   "metadata": {
    "collapsed": false,
    "pycharm": {
     "name": "#%%\n"
    }
   }
  }
 ],
 "metadata": {
  "kernelspec": {
   "display_name": "Python 3",
   "language": "python",
   "name": "python3"
  },
  "language_info": {
   "codemirror_mode": {
    "name": "ipython",
    "version": 2
   },
   "file_extension": ".py",
   "mimetype": "text/x-python",
   "name": "python",
   "nbconvert_exporter": "python",
   "pygments_lexer": "ipython2",
   "version": "2.7.6"
  }
 },
 "nbformat": 4,
 "nbformat_minor": 0
}