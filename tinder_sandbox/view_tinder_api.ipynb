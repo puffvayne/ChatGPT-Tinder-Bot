{
 "cells": [
  {
   "cell_type": "code",
   "execution_count": 1,
   "id": "1d51ce4e-3090-4ff7-8864-91332ad85a6d",
   "metadata": {},
   "outputs": [
    {
     "name": "stdout",
     "output_type": "stream",
     "text": [
      "[INFO] - append directory to path: D:\\Dev\\Code\\ChatGPT-Tinder-Bot\n"
     ]
    }
   ],
   "source": [
    "import sys\n",
    "import pathlib\n",
    "CURR_DIR = pathlib.Path().resolve()\n",
    "PROJECT_DIR = CURR_DIR.parent\n",
    "sys.path.append(str(PROJECT_DIR))\n",
    "print(f\"[INFO] - append directory to path: {PROJECT_DIR}\")"
   ]
  },
  {
   "cell_type": "code",
   "execution_count": 2,
   "id": "72699180-2572-475f-921d-c2fe58a8aa67",
   "metadata": {},
   "outputs": [],
   "source": [
    "from src.tinder import TinderAPI, TINDER_URL\n",
    "import requests"
   ]
  },
  {
   "cell_type": "code",
   "execution_count": 35,
   "id": "b2b525f8-e518-4bb8-b33d-7cf19983478e",
   "metadata": {},
   "outputs": [],
   "source": [
    "token = ''"
   ]
  },
  {
   "cell_type": "code",
   "execution_count": 4,
   "id": "af601d02-acdf-4547-bb11-e47bf9ea5955",
   "metadata": {},
   "outputs": [],
   "source": [
    "# res = requests.get(TINDER_URL + \"/v2/profile?include=account%2Cuser\", headers={\"X-Auth-Token\": token})"
   ]
  },
  {
   "cell_type": "code",
   "execution_count": null,
   "id": "928ac234-47f1-40dd-8417-0024fc673995",
   "metadata": {},
   "outputs": [],
   "source": []
  },
  {
   "cell_type": "code",
   "execution_count": 5,
   "id": "4ebb6030-6010-45e7-9a65-0cd53711cc15",
   "metadata": {},
   "outputs": [],
   "source": [
    "tinder_api = TinderAPI(token)"
   ]
  },
  {
   "cell_type": "code",
   "execution_count": 6,
   "id": "017aec40-b926-4b8f-b405-6945b2387d15",
   "metadata": {},
   "outputs": [],
   "source": [
    "profile = tinder_api.profile()"
   ]
  },
  {
   "cell_type": "code",
   "execution_count": 8,
   "id": "c7779409-4c87-4722-84ba-bdb8250700d1",
   "metadata": {},
   "outputs": [
    {
     "data": {
      "text/plain": [
       "['__class__',\n",
       " '__delattr__',\n",
       " '__dict__',\n",
       " '__dir__',\n",
       " '__doc__',\n",
       " '__eq__',\n",
       " '__format__',\n",
       " '__ge__',\n",
       " '__getattribute__',\n",
       " '__gt__',\n",
       " '__hash__',\n",
       " '__init__',\n",
       " '__init_subclass__',\n",
       " '__le__',\n",
       " '__lt__',\n",
       " '__module__',\n",
       " '__ne__',\n",
       " '__new__',\n",
       " '__reduce__',\n",
       " '__reduce_ex__',\n",
       " '__repr__',\n",
       " '__setattr__',\n",
       " '__sizeof__',\n",
       " '__str__',\n",
       " '__subclasshook__',\n",
       " '__weakref__',\n",
       " '_api',\n",
       " 'age_max',\n",
       " 'age_min',\n",
       " 'bio',\n",
       " 'birth_date',\n",
       " 'city',\n",
       " 'distance',\n",
       " 'email',\n",
       " 'gender',\n",
       " 'gender_filter',\n",
       " 'id',\n",
       " 'images',\n",
       " 'infos',\n",
       " 'jobs',\n",
       " 'max_distance',\n",
       " 'name',\n",
       " 'phone_number',\n",
       " 'relationship_intent',\n",
       " 'schools',\n",
       " 'selected_descriptors',\n",
       " 'user_interests']"
      ]
     },
     "execution_count": 8,
     "metadata": {},
     "output_type": "execute_result"
    }
   ],
   "source": [
    "dir(profile)"
   ]
  },
  {
   "cell_type": "code",
   "execution_count": 10,
   "id": "a5b46190-5ab4-4cc9-87e8-f1d0fedc5a79",
   "metadata": {},
   "outputs": [],
   "source": [
    "matches = tinder_api.matches(limit=50)"
   ]
  },
  {
   "cell_type": "code",
   "execution_count": 34,
   "id": "152b885c-39b3-4dc0-9136-fa952d1b1201",
   "metadata": {},
   "outputs": [],
   "source": [
    "# for match in matches:\n",
    "#     print(f\"{match.person.id} # {match.person.name}\")\n",
    "#     # break"
   ]
  },
  {
   "cell_type": "code",
   "execution_count": 22,
   "id": "21487999-c29d-43c9-8f49-64b28ecc46ea",
   "metadata": {},
   "outputs": [],
   "source": [
    "girl = matches[0].person"
   ]
  },
  {
   "cell_type": "code",
   "execution_count": 24,
   "id": "6678373e-8199-47fd-b0fb-59bbe15e005a",
   "metadata": {},
   "outputs": [
    {
     "data": {
      "text/plain": [
       "['__class__',\n",
       " '__delattr__',\n",
       " '__dict__',\n",
       " '__dir__',\n",
       " '__doc__',\n",
       " '__eq__',\n",
       " '__format__',\n",
       " '__ge__',\n",
       " '__getattribute__',\n",
       " '__gt__',\n",
       " '__hash__',\n",
       " '__init__',\n",
       " '__init_subclass__',\n",
       " '__le__',\n",
       " '__lt__',\n",
       " '__module__',\n",
       " '__ne__',\n",
       " '__new__',\n",
       " '__reduce__',\n",
       " '__reduce_ex__',\n",
       " '__repr__',\n",
       " '__setattr__',\n",
       " '__sizeof__',\n",
       " '__str__',\n",
       " '__subclasshook__',\n",
       " '__weakref__',\n",
       " '_api',\n",
       " 'bio',\n",
       " 'birth_date',\n",
       " 'city',\n",
       " 'distance',\n",
       " 'gender',\n",
       " 'id',\n",
       " 'images',\n",
       " 'infos',\n",
       " 'jobs',\n",
       " 'name',\n",
       " 'relationship_intent',\n",
       " 'schools',\n",
       " 'selected_descriptors']"
      ]
     },
     "execution_count": 24,
     "metadata": {},
     "output_type": "execute_result"
    }
   ],
   "source": [
    "dir(girl)"
   ]
  },
  {
   "cell_type": "code",
   "execution_count": 33,
   "id": "f6d5e31c-c6bc-4a9a-8268-2668570996bf",
   "metadata": {},
   "outputs": [],
   "source": [
    "# girl"
   ]
  },
  {
   "cell_type": "code",
   "execution_count": 38,
   "id": "237c55af-a28e-4b4d-8bd5-7aa93cc405c1",
   "metadata": {},
   "outputs": [
    {
     "name": "stdout",
     "output_type": "stream",
     "text": [
      "['https://images-ssl.gotinder.com/62de8b6bcc7a2b01006bd14f/original_c0db2f80-81c0-405b-a79b-a6cf3b2e0b5e.jpeg', 'https://images-ssl.gotinder.com/62de8b6bcc7a2b01006bd14f/original_38cfd8b4-41ba-4219-8e42-525c281ecfa5.jpeg', 'https://images-ssl.gotinder.com/62de8b6bcc7a2b01006bd14f/original_62324674-6234-4fc1-aec7-1bac3d27977a.jpeg', 'https://images-ssl.gotinder.com/62de8b6bcc7a2b01006bd14f/original_e13833f5-1d3c-4cca-b98f-5b62eabaccc2.jpeg']\n",
      "62de8b6bcc7a2b01006bd14f # Rosemary\n",
      "['https://images-ssl.gotinder.com/62c149d08ee7bf010065afbd/original_7a858190-4545-4e76-8ce8-7843aee9c92e.jpeg', 'https://images-ssl.gotinder.com/62c149d08ee7bf010065afbd/original_9d2ecb81-a828-4dab-9488-f82a2ea6db77.jpeg', 'https://images-ssl.gotinder.com/62c149d08ee7bf010065afbd/original_49f340af-af03-4c79-a180-99e0c0f15729.jpeg', 'https://images-ssl.gotinder.com/62c149d08ee7bf010065afbd/original_e0a21952-afc0-4dbd-b809-aed53542db4e.jpeg', 'https://images-ssl.gotinder.com/62c149d08ee7bf010065afbd/original_e52cef36-aebf-4f93-b04d-892c7bbd3f42.jpeg', 'https://images-ssl.gotinder.com/62c149d08ee7bf010065afbd/original_89dae153-5767-4ac1-be2b-e09c3fb38799.jpeg', 'https://images-ssl.gotinder.com/62c149d08ee7bf010065afbd/original_b2ec8c2a-365a-465b-a0f7-1c95f2c44995.jpeg']\n",
      "62c149d08ee7bf010065afbd # C\n",
      "['https://images-ssl.gotinder.com/5e95a6e7f06de4010019be99/original_d0d0a09f-487f-4c29-a286-1f6cfb2f2ae8.jpeg', 'https://images-ssl.gotinder.com/5e95a6e7f06de4010019be99/original_5eedc837-5a66-498b-aaf1-f048f653daf6.jpeg', 'https://images-ssl.gotinder.com/5e95a6e7f06de4010019be99/original_232b29fb-40a2-4019-82a2-dab000fedf65.jpeg', 'https://images-ssl.gotinder.com/5e95a6e7f06de4010019be99/original_47c0b3e5-0acf-4e7b-a3d5-0052c956b18f.jpeg', 'https://images-ssl.gotinder.com/5e95a6e7f06de4010019be99/1080x1350_6336a61b-acde-4720-b11e-a4529cca6a87.jpg', 'https://images-ssl.gotinder.com/5e95a6e7f06de4010019be99/1080x1350_1f7bcff0-25f1-4705-a956-c252cadb8fe7.webp', 'https://images-ssl.gotinder.com/5e95a6e7f06de4010019be99/1080x1350_f3cd7a90-01a7-4b3b-aae3-ff92cac6f59a.webp', 'https://images-ssl.gotinder.com/5e95a6e7f06de4010019be99/1080x1350_9425ea8d-e509-4943-bc19-213469ff5818.webp', 'https://images-ssl.gotinder.com/5e95a6e7f06de4010019be99/1080x1350_7fb912c0-ceec-4fe7-9675-d460fea5620c.webp']\n",
      "5e95a6e7f06de4010019be99 # Kiki\n",
      "['https://images-ssl.gotinder.com/63333095bb27b00100d37ae0/original_16a38363-0325-4c19-b770-4c2a59768856.jpeg', 'https://images-ssl.gotinder.com/63333095bb27b00100d37ae0/original_a132c3ee-c618-441d-b53e-478239744b5c.jpeg', 'https://images-ssl.gotinder.com/63333095bb27b00100d37ae0/original_7d41dbd9-4970-438a-80ef-faa6dd111a8b.jpeg', 'https://images-ssl.gotinder.com/63333095bb27b00100d37ae0/original_ac74c176-4632-4c0e-a7ff-3f36a3098f5d.jpeg']\n",
      "63333095bb27b00100d37ae0 # Iris\n",
      "['https://images-ssl.gotinder.com/5d907db3ea73090100c5fa8a/original_19a35899-ad9c-45a0-90b4-1727dba18535.jpeg', 'https://images-ssl.gotinder.com/5d907db3ea73090100c5fa8a/original_a5044406-71aa-4156-a244-a71384dbef22.jpeg', 'https://images-ssl.gotinder.com/5d907db3ea73090100c5fa8a/original_9b0b7dc0-3ea3-4a56-ae64-b7fb49f8b451.jpeg', 'https://images-ssl.gotinder.com/5d907db3ea73090100c5fa8a/original_d10e6be5-8b07-4e3a-84cc-a39b63c9381b.jpeg', 'https://images-ssl.gotinder.com/5d907db3ea73090100c5fa8a/original_98c1f440-533a-4fc2-ac34-152f3506a170.jpeg', 'https://images-ssl.gotinder.com/5d907db3ea73090100c5fa8a/1080x1350_1f4df957-553d-4e30-9388-ee8a4483cc5b.webp', 'https://images-ssl.gotinder.com/5d907db3ea73090100c5fa8a/1080x1350_9bb09c74-3d08-45cf-bffd-2178e8fe4f7a.webp', 'https://images-ssl.gotinder.com/5d907db3ea73090100c5fa8a/1080x1350_74ace332-2f89-4e50-bbef-0e191a3f48e6.webp', 'https://images-ssl.gotinder.com/5d907db3ea73090100c5fa8a/1080x1350_8605575c-7170-4625-ae1b-49ff33781c05.webp']\n",
      "5d907db3ea73090100c5fa8a # 謙\n",
      "['https://images-ssl.gotinder.com/63c43b3035ce84010009d25f/original_7a307e70-a4ef-48fc-a8c8-560269ff2363.jpeg']\n",
      "63c43b3035ce84010009d25f # Justina\n",
      "['https://images-ssl.gotinder.com/60ffe9ef3f929801000086c5/original_129b3d72-5795-4955-9d4f-b0337ec8ffcf.jpeg', 'https://images-ssl.gotinder.com/60ffe9ef3f929801000086c5/original_3f344ef6-dce1-4465-9ed4-30797f0f24d5.jpeg', 'https://images-ssl.gotinder.com/60ffe9ef3f929801000086c5/original_9f9980b6-b5dc-4c3a-8de0-6485169e7e4f.jpeg', 'https://images-ssl.gotinder.com/60ffe9ef3f929801000086c5/original_ebd7c4e6-a22e-4318-a448-c6c899f2f392.jpeg', 'https://images-ssl.gotinder.com/60ffe9ef3f929801000086c5/original_3e4ee5d8-3d88-4d9b-8bd9-f328ef2d2a62.jpeg', 'https://images-ssl.gotinder.com/60ffe9ef3f929801000086c5/original_6a961a0a-5dd2-4331-be29-40f8bb242a2c.jpeg', 'https://images-ssl.gotinder.com/60ffe9ef3f929801000086c5/original_cb42b0d3-8c08-47f9-9e63-e841b67dc077.jpeg']\n",
      "60ffe9ef3f929801000086c5 # Mary\n"
     ]
    }
   ],
   "source": [
    "for match in matches:\n",
    "    girl = match.person\n",
    "    print(girl.images)\n",
    "    print(f\"{girl.id} # {girl.name}\")"
   ]
  },
  {
   "cell_type": "code",
   "execution_count": null,
   "id": "eff353fd-a92b-4ec2-b4bd-b06d376aa28c",
   "metadata": {},
   "outputs": [],
   "source": []
  }
 ],
 "metadata": {
  "kernelspec": {
   "display_name": "GTBot",
   "language": "python",
   "name": "gtbot"
  },
  "language_info": {
   "codemirror_mode": {
    "name": "ipython",
    "version": 3
   },
   "file_extension": ".py",
   "mimetype": "text/x-python",
   "name": "python",
   "nbconvert_exporter": "python",
   "pygments_lexer": "ipython3",
   "version": "3.9.16"
  }
 },
 "nbformat": 4,
 "nbformat_minor": 5
}