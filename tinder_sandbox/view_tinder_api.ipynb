{
 "cells": [
  {
   "cell_type": "code",
   "execution_count": 5,
   "id": "1d51ce4e-3090-4ff7-8864-91332ad85a6d",
   "metadata": {},
   "outputs": [
    {
     "name": "stdout",
     "output_type": "stream",
     "text": [
      "[INFO] - append directory to path: D:\\Dev\\Code\\ChatGPT-Tinder-Bot\n"
     ]
    }
   ],
   "source": [
    "import sys\n",
    "import pathlib\n",
    "CURR_DIR = pathlib.Path().resolve()\n",
    "PROJECT_DIR = CURR_DIR.parent\n",
    "sys.path.append(str(PROJECT_DIR))\n",
    "print(f\"[INFO] - append directory to path: {PROJECT_DIR}\")"
   ]
  },
  {
   "cell_type": "code",
   "execution_count": 6,
   "id": "72699180-2572-475f-921d-c2fe58a8aa67",
   "metadata": {},
   "outputs": [],
   "source": [
    "from src.tinder import TinderAPI, TINDER_URL\n",
    "import requests"
   ]
  },
  {
   "cell_type": "code",
   "execution_count": 7,
   "id": "b2b525f8-e518-4bb8-b33d-7cf19983478e",
   "metadata": {},
   "outputs": [],
   "source": [
    "token = ''\n",
    "tinder_api = TinderAPI(token)"
   ]
  },
  {
   "attachments": {},
   "cell_type": "markdown",
   "id": "84bea9d7",
   "metadata": {},
   "source": [
    "# view remaining likes"
   ]
  },
  {
   "cell_type": "code",
   "execution_count": 8,
   "id": "7cf48e78",
   "metadata": {},
   "outputs": [
    {
     "data": {
      "text/plain": [
       "100"
      ]
     },
     "execution_count": 8,
     "metadata": {},
     "output_type": "execute_result"
    }
   ],
   "source": [
    "tinder_api.get_remaining_likes()"
   ]
  },
  {
   "cell_type": "code",
   "execution_count": 4,
   "id": "af601d02-acdf-4547-bb11-e47bf9ea5955",
   "metadata": {},
   "outputs": [],
   "source": [
    "# res = requests.get(TINDER_URL + \"/v2/profile?include=account%2Cuser\", headers={\"X-Auth-Token\": token})"
   ]
  },
  {
   "cell_type": "code",
   "execution_count": null,
   "id": "928ac234-47f1-40dd-8417-0024fc673995",
   "metadata": {},
   "outputs": [],
   "source": []
  },
  {
   "cell_type": "code",
   "execution_count": 5,
   "id": "4ebb6030-6010-45e7-9a65-0cd53711cc15",
   "metadata": {},
   "outputs": [],
   "source": []
  },
  {
   "cell_type": "code",
   "execution_count": 8,
   "id": "c7779409-4c87-4722-84ba-bdb8250700d1",
   "metadata": {},
   "outputs": [
    {
     "data": {
      "text/plain": [
       "['__class__',\n",
       " '__delattr__',\n",
       " '__dict__',\n",
       " '__dir__',\n",
       " '__doc__',\n",
       " '__eq__',\n",
       " '__format__',\n",
       " '__ge__',\n",
       " '__getattribute__',\n",
       " '__gt__',\n",
       " '__hash__',\n",
       " '__init__',\n",
       " '__init_subclass__',\n",
       " '__le__',\n",
       " '__lt__',\n",
       " '__module__',\n",
       " '__ne__',\n",
       " '__new__',\n",
       " '__reduce__',\n",
       " '__reduce_ex__',\n",
       " '__repr__',\n",
       " '__setattr__',\n",
       " '__sizeof__',\n",
       " '__str__',\n",
       " '__subclasshook__',\n",
       " '__weakref__',\n",
       " '_token',\n",
       " 'chatroom_match_id',\n",
       " 'get_messages',\n",
       " 'get_user_info',\n",
       " 'matches',\n",
       " 'profile',\n",
       " 'send_message']"
      ]
     },
     "execution_count": 8,
     "metadata": {},
     "output_type": "execute_result"
    }
   ],
   "source": [
    "# dir(tinder_api)"
   ]
  },
  {
   "cell_type": "code",
   "execution_count": 6,
   "id": "017aec40-b926-4b8f-b405-6945b2387d15",
   "metadata": {},
   "outputs": [],
   "source": [
    "profile = tinder_api.profile()"
   ]
  },
  {
   "cell_type": "code",
   "execution_count": 11,
   "id": "11aaa501-71d0-4b11-8030-4eb9fecdb325",
   "metadata": {},
   "outputs": [
    {
     "data": {
      "text/plain": [
       "['__class__',\n",
       " '__delattr__',\n",
       " '__dict__',\n",
       " '__dir__',\n",
       " '__doc__',\n",
       " '__eq__',\n",
       " '__format__',\n",
       " '__ge__',\n",
       " '__getattribute__',\n",
       " '__gt__',\n",
       " '__hash__',\n",
       " '__init__',\n",
       " '__init_subclass__',\n",
       " '__le__',\n",
       " '__lt__',\n",
       " '__module__',\n",
       " '__ne__',\n",
       " '__new__',\n",
       " '__reduce__',\n",
       " '__reduce_ex__',\n",
       " '__repr__',\n",
       " '__setattr__',\n",
       " '__sizeof__',\n",
       " '__str__',\n",
       " '__subclasshook__',\n",
       " '__weakref__',\n",
       " '_api',\n",
       " 'age_max',\n",
       " 'age_min',\n",
       " 'bio',\n",
       " 'birth_date',\n",
       " 'city',\n",
       " 'distance',\n",
       " 'email',\n",
       " 'gender',\n",
       " 'gender_filter',\n",
       " 'id',\n",
       " 'images',\n",
       " 'infos',\n",
       " 'jobs',\n",
       " 'max_distance',\n",
       " 'name',\n",
       " 'phone_number',\n",
       " 'relationship_intent',\n",
       " 'schools',\n",
       " 'selected_descriptors',\n",
       " 'user_interests']"
      ]
     },
     "execution_count": 11,
     "metadata": {},
     "output_type": "execute_result"
    }
   ],
   "source": [
    "# dir(profile)"
   ]
  },
  {
   "cell_type": "code",
   "execution_count": 12,
   "id": "6d2c12f9-f4eb-4472-ae24-64657f7a83c2",
   "metadata": {},
   "outputs": [
    {
     "data": {
      "text/plain": [
       "'Female'"
      ]
     },
     "execution_count": 12,
     "metadata": {},
     "output_type": "execute_result"
    }
   ],
   "source": [
    "profile.gender_filter"
   ]
  },
  {
   "cell_type": "code",
   "execution_count": 9,
   "id": "7ea46ea2-4323-4150-a7ea-27f3f29d3d21",
   "metadata": {},
   "outputs": [
    {
     "ename": "TypeError",
     "evalue": "get_user_info() missing 1 required positional argument: 'user_id'",
     "output_type": "error",
     "traceback": [
      "\u001B[1;31m---------------------------------------------------------------------------\u001B[0m",
      "\u001B[1;31mTypeError\u001B[0m                                 Traceback (most recent call last)",
      "Cell \u001B[1;32mIn[9], line 1\u001B[0m\n\u001B[1;32m----> 1\u001B[0m \u001B[43mtinder_api\u001B[49m\u001B[38;5;241;43m.\u001B[39;49m\u001B[43mget_user_info\u001B[49m\u001B[43m(\u001B[49m\u001B[43m)\u001B[49m\n",
      "\u001B[1;31mTypeError\u001B[0m: get_user_info() missing 1 required positional argument: 'user_id'"
     ]
    }
   ],
   "source": [
    "tinder_api.get_user_info()"
   ]
  },
  {
   "cell_type": "code",
   "execution_count": null,
   "id": "d11f9a2c-36ca-43a8-b429-3b9143ba352f",
   "metadata": {},
   "outputs": [],
   "source": []
  },
  {
   "cell_type": "code",
   "execution_count": null,
   "id": "f05a49c2-33b3-4fff-b30e-c6e569c8d410",
   "metadata": {},
   "outputs": [],
   "source": []
  },
  {
   "cell_type": "code",
   "execution_count": 10,
   "id": "a5b46190-5ab4-4cc9-87e8-f1d0fedc5a79",
   "metadata": {},
   "outputs": [],
   "source": [
    "matches = tinder_api.matches(limit=50)"
   ]
  },
  {
   "cell_type": "code",
   "execution_count": 34,
   "id": "152b885c-39b3-4dc0-9136-fa952d1b1201",
   "metadata": {},
   "outputs": [],
   "source": [
    "# for match in matches:\n",
    "#     print(f\"{match.person.id} # {match.person.name}\")\n",
    "#     # break"
   ]
  },
  {
   "cell_type": "code",
   "execution_count": 22,
   "id": "21487999-c29d-43c9-8f49-64b28ecc46ea",
   "metadata": {},
   "outputs": [],
   "source": [
    "girl = matches[0].person"
   ]
  },
  {
   "cell_type": "code",
   "execution_count": 24,
   "id": "6678373e-8199-47fd-b0fb-59bbe15e005a",
   "metadata": {},
   "outputs": [
    {
     "data": {
      "text/plain": [
       "['__class__',\n",
       " '__delattr__',\n",
       " '__dict__',\n",
       " '__dir__',\n",
       " '__doc__',\n",
       " '__eq__',\n",
       " '__format__',\n",
       " '__ge__',\n",
       " '__getattribute__',\n",
       " '__gt__',\n",
       " '__hash__',\n",
       " '__init__',\n",
       " '__init_subclass__',\n",
       " '__le__',\n",
       " '__lt__',\n",
       " '__module__',\n",
       " '__ne__',\n",
       " '__new__',\n",
       " '__reduce__',\n",
       " '__reduce_ex__',\n",
       " '__repr__',\n",
       " '__setattr__',\n",
       " '__sizeof__',\n",
       " '__str__',\n",
       " '__subclasshook__',\n",
       " '__weakref__',\n",
       " '_api',\n",
       " 'bio',\n",
       " 'birth_date',\n",
       " 'city',\n",
       " 'distance',\n",
       " 'gender',\n",
       " 'id',\n",
       " 'images',\n",
       " 'infos',\n",
       " 'jobs',\n",
       " 'name',\n",
       " 'relationship_intent',\n",
       " 'schools',\n",
       " 'selected_descriptors']"
      ]
     },
     "execution_count": 24,
     "metadata": {},
     "output_type": "execute_result"
    }
   ],
   "source": [
    "dir(girl)"
   ]
  },
  {
   "cell_type": "code",
   "execution_count": 33,
   "id": "f6d5e31c-c6bc-4a9a-8268-2668570996bf",
   "metadata": {},
   "outputs": [],
   "source": [
    "# girl"
   ]
  },
  {
   "cell_type": "code",
   "execution_count": 1,
   "id": "237c55af-a28e-4b4d-8bd5-7aa93cc405c1",
   "metadata": {},
   "outputs": [],
   "source": [
    "# for match in matches:\n",
    "#     girl = match.person\n",
    "#     print(girl.images)\n",
    "#     print(f\"{girl.id} # {girl.name}\")"
   ]
  },
  {
   "cell_type": "code",
   "execution_count": null,
   "id": "eff353fd-a92b-4ec2-b4bd-b06d376aa28c",
   "metadata": {},
   "outputs": [],
   "source": []
  }
 ],
 "metadata": {
  "kernelspec": {
   "display_name": "gtbot",
   "language": "python",
   "name": "python3"
  },
  "language_info": {
   "codemirror_mode": {
    "name": "ipython",
    "version": 3
   },
   "file_extension": ".py",
   "mimetype": "text/x-python",
   "name": "python",
   "nbconvert_exporter": "python",
   "pygments_lexer": "ipython3",
   "version": "3.9.16"
  }
 },
 "nbformat": 4,
 "nbformat_minor": 5
}