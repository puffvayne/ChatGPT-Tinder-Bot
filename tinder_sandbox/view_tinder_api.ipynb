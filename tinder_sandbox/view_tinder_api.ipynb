{
 "cells": [
  {
   "cell_type": "code",
   "execution_count": 3,
   "id": "1d51ce4e-3090-4ff7-8864-91332ad85a6d",
   "metadata": {},
   "outputs": [
    {
     "name": "stdout",
     "output_type": "stream",
     "text": [
      "[INFO] - append directory to path: D:\\Dev\\Code\\ChatGPT-Tinder-Bot\n"
     ]
    }
   ],
   "source": [
    "import sys\n",
    "import pathlib\n",
    "CURR_DIR = pathlib.Path().resolve()\n",
    "PROJECT_DIR = CURR_DIR.parent\n",
    "sys.path.append(str(PROJECT_DIR))\n",
    "print(f\"[INFO] - append directory to path: {PROJECT_DIR}\")"
   ]
  },
  {
   "cell_type": "code",
   "execution_count": 6,
   "id": "72699180-2572-475f-921d-c2fe58a8aa67",
   "metadata": {},
   "outputs": [],
   "source": [
    "import os\n",
    "from dotenv import load_dotenv\n",
    "from src.tinder import TinderAPI, TINDER_URL\n",
    "from src.utils.file_tool import read_json, to_json\n",
    "import requests"
   ]
  },
  {
   "cell_type": "code",
   "execution_count": 7,
   "id": "b2b525f8-e518-4bb8-b33d-7cf19983478e",
   "metadata": {},
   "outputs": [],
   "source": [
    "ENV_FILE_PATH = PROJECT_DIR / 'local_settings/local.env'\n",
    "load_dotenv(ENV_FILE_PATH)\n",
    "TINDER_TOKEN = os.getenv('TINDER_TOKEN')\n",
    "tinder_api = TinderAPI(TINDER_TOKEN)"
   ]
  },
  {
   "attachments": {},
   "cell_type": "markdown",
   "id": "84bea9d7",
   "metadata": {},
   "source": [
    "# view remaining likes"
   ]
  },
  {
   "cell_type": "code",
   "execution_count": 8,
   "id": "7cf48e78",
   "metadata": {},
   "outputs": [
    {
     "data": {
      "text/plain": "100"
     },
     "execution_count": 8,
     "metadata": {},
     "output_type": "execute_result"
    }
   ],
   "source": [
    "tinder_api.get_remaining_likes()"
   ]
  },
  {
   "cell_type": "markdown",
   "source": [
    "# view messages of all matches"
   ],
   "metadata": {
    "collapsed": false
   }
  },
  {
   "cell_type": "code",
   "execution_count": 9,
   "id": "eff353fd-a92b-4ec2-b4bd-b06d376aa28c",
   "metadata": {},
   "outputs": [
    {
     "name": "stdout",
     "output_type": "stream",
     "text": [
      "True, Chatroom: 629b809ebea8290100b262d864301fa0646eb40100d452e8 with Person: 64301fa0646eb40100d452e8 - Fumi (Unknown, -1 km) (2000.05.06)\n"
     ]
    }
   ],
   "source": [
    "for match in tinder_api.get_matches(60):\n",
    "    if match.person.name != 'Fumi':\n",
    "        continue\n",
    "    chatroom = tinder_api.get_chatroom(match)\n",
    "    print(f\"{chatroom.has_replied_about_hook_up}, {chatroom}\")\n",
    "\n",
    "    break"
   ]
  },
  {
   "cell_type": "code",
   "execution_count": 11,
   "outputs": [
    {
     "name": "stdout",
     "output_type": "stream",
     "text": [
      "90\n"
     ]
    }
   ],
   "source": [
    "print(len(chatroom.messages))\n",
    "\n",
    "# for msg in chatroom.messages:\n",
    "#     print(msg)"
   ],
   "metadata": {
    "collapsed": false,
    "pycharm": {
     "name": "#%%\n"
    }
   }
  },
  {
   "cell_type": "code",
   "execution_count": 6,
   "outputs": [
    {
     "data": {
      "text/plain": "True"
     },
     "execution_count": 6,
     "metadata": {},
     "output_type": "execute_result"
    }
   ],
   "source": [
    "chatroom.has_asked_hook_up"
   ],
   "metadata": {
    "collapsed": false,
    "pycharm": {
     "name": "#%%\n"
    }
   }
  },
  {
   "cell_type": "code",
   "execution_count": 7,
   "outputs": [
    {
     "name": "stdout",
     "output_type": "stream",
     "text": [
      "False MSG: 2023-05-02 23:54:55 - 60ffe9ef3f929801000086c5: 直接約啊\n",
      "True MSG: 2023-05-02 18:52:30 - *******Me (Chris)*******: 這樣妳還想繼續聊嗎:)?\n",
      "True MSG: 2023-05-02 18:52:27 - *******Me (Chris)*******: 先跟妳說一下 我是來約的喔\n",
      "True MSG: 2023-05-02 18:52:22 - *******Me (Chris)*******: 為了避免浪費妳的時間\n",
      "True MSG: 2023-05-02 18:52:21 - *******Me (Chris)*******: 哈囉, 很高興跟妳配對\n"
     ]
    }
   ],
   "source": [
    "for m in chatroom.messages:\n",
    "    print(m.is_from_me, m)"
   ],
   "metadata": {
    "collapsed": false,
    "pycharm": {
     "name": "#%%\n"
    }
   }
  },
  {
   "cell_type": "code",
   "execution_count": 8,
   "outputs": [
    {
     "data": {
      "text/plain": "[MSG: 2023-05-02 23:54:55 - 60ffe9ef3f929801000086c5: 直接約啊,\n MSG: 2023-05-02 18:52:30 - *******Me (Chris)*******: 這樣妳還想繼續聊嗎:)?,\n MSG: 2023-05-02 18:52:27 - *******Me (Chris)*******: 先跟妳說一下 我是來約的喔,\n MSG: 2023-05-02 18:52:22 - *******Me (Chris)*******: 為了避免浪費妳的時間,\n MSG: 2023-05-02 18:52:21 - *******Me (Chris)*******: 哈囉, 很高興跟妳配對]"
     },
     "execution_count": 8,
     "metadata": {},
     "output_type": "execute_result"
    }
   ],
   "source": [
    "chatroom.messages"
   ],
   "metadata": {
    "collapsed": false,
    "pycharm": {
     "name": "#%%\n"
    }
   }
  },
  {
   "cell_type": "code",
   "execution_count": 8,
   "outputs": [],
   "source": [],
   "metadata": {
    "collapsed": false,
    "pycharm": {
     "name": "#%%\n"
    }
   }
  },
  {
   "cell_type": "code",
   "execution_count": 8,
   "outputs": [],
   "source": [],
   "metadata": {
    "collapsed": false,
    "pycharm": {
     "name": "#%%\n"
    }
   }
  },
  {
   "cell_type": "code",
   "execution_count": 8,
   "outputs": [],
   "source": [],
   "metadata": {
    "collapsed": false,
    "pycharm": {
     "name": "#%%\n"
    }
   }
  },
  {
   "cell_type": "code",
   "execution_count": 8,
   "outputs": [],
   "source": [],
   "metadata": {
    "collapsed": false,
    "pycharm": {
     "name": "#%%\n"
    }
   }
  },
  {
   "cell_type": "markdown",
   "source": [
    "# View Recommendations"
   ],
   "metadata": {
    "collapsed": false
   }
  },
  {
   "cell_type": "code",
   "execution_count": 9,
   "outputs": [
    {
     "name": "stdout",
     "output_type": "stream",
     "text": [
      "RecPerson: 6434ed61d18e3f0100666861 - Tina (北投區, 10 km) (2001.05.06)\n",
      "RecPerson: 64301fa0646eb40100d452e8 - Fumi (中正區, 8 km) (2000.05.06)\n",
      "RecPerson: 6434f5c2d4eb8501002105ef - Ka (Unknown, 2 km) (2002.05.06)\n",
      "RecPerson: 5fcb556df58a9b0100663e87 - Yijun (新店區, 6 km) (1999.05.06)\n",
      "RecPerson: 615873ee7781dd010090605e - Anna (Unknown, 5 km) (2002.05.06)\n",
      "RecPerson: 63cd857d77ff060100ec994a - Alpha (大安區, 6 km) (1999.05.06)\n",
      "RecPerson: 6432be7fa6e6e30100238856 - Tina (Unknown, 6 km) (1999.05.06)\n",
      "RecPerson: 5999d4d7ac0e75295d391fdc - Jen (中正區, 2 km) (1997.05.06)\n",
      "RecPerson: 5ff2bd85b44ee70100012fde - 陳亭恩 (台北市, 2 km) (1998.05.06)\n",
      "RecPerson: 63e817f09d083c010001367f - KK (Unknown, 6 km) (2000.05.06)\n",
      "RecPerson: 60a4ba4b02c5d401009a8091 - Nana (Unknown, 3 km) (1996.05.06)\n",
      "RecPerson: 5e8f4d9f4ae7cc0100428228 - Betty (Unknown, 6 km) (2000.05.06)\n",
      "RecPerson: 635b29178b9968010060c40c - Jennie (信義區, 2 km) (1998.05.06)\n",
      "RecPerson: 63bf9b67b0ebd70100563587 - LULU (Unknown, 6 km) (1993.05.06)\n",
      "RecPerson: 62f13ba21fb4480100209189 - C (Unknown, 5 km) (2002.05.06)\n",
      "RecPerson: 5816034014c6891c457d64d6 - Meron (Shanghai, 2 km) (1998.05.06)\n",
      "RecPerson: 5de2b44e13086901006bfd84 - Michelle (Unknown, 5 km) (1996.05.06)\n",
      "RecPerson: 61646250a556af01006cf2a3 - Huang (Unknown, 2 km) (2000.05.06)\n"
     ]
    }
   ],
   "source": [
    "for rec in tinder_api.get_recommendations():\n",
    "    print(rec)"
   ],
   "metadata": {
    "collapsed": false,
    "pycharm": {
     "name": "#%%\n"
    }
   }
  },
  {
   "cell_type": "markdown",
   "source": [
    "# write user info json"
   ],
   "metadata": {
    "collapsed": false
   }
  },
  {
   "cell_type": "code",
   "execution_count": 10,
   "outputs": [],
   "source": [
    "user_id = '64301fa0646eb40100d452e8'\n",
    "user_info_json = tinder_api.get_user_info_json(user_id)\n",
    "to_json(user_info_json, f\"user_{user_id}.json\")"
   ],
   "metadata": {
    "collapsed": false,
    "pycharm": {
     "name": "#%%\n"
    }
   }
  },
  {
   "cell_type": "markdown",
   "source": [
    "# Ask hook up"
   ],
   "metadata": {
    "collapsed": false
   }
  },
  {
   "cell_type": "code",
   "execution_count": 11,
   "outputs": [],
   "source": [
    "for match in tinder_api.get_matches(limit=60):\n",
    "    chatroom = tinder_api.get_chatroom(match)\n",
    "    if len(chatroom.messages) == 0:\n",
    "        print(chatroom)"
   ],
   "metadata": {
    "collapsed": false,
    "pycharm": {
     "name": "#%%\n"
    }
   }
  },
  {
   "cell_type": "code",
   "execution_count": 11,
   "outputs": [],
   "source": [],
   "metadata": {
    "collapsed": false,
    "pycharm": {
     "name": "#%%\n"
    }
   }
  },
  {
   "cell_type": "code",
   "execution_count": 11,
   "outputs": [],
   "source": [],
   "metadata": {
    "collapsed": false,
    "pycharm": {
     "name": "#%%\n"
    }
   }
  },
  {
   "cell_type": "code",
   "execution_count": 11,
   "outputs": [],
   "source": [],
   "metadata": {
    "collapsed": false,
    "pycharm": {
     "name": "#%%\n"
    }
   }
  },
  {
   "cell_type": "code",
   "execution_count": 11,
   "outputs": [],
   "source": [],
   "metadata": {
    "collapsed": false,
    "pycharm": {
     "name": "#%%\n"
    }
   }
  }
 ],
 "metadata": {
  "kernelspec": {
   "display_name": "gtbot",
   "language": "python",
   "name": "python3"
  },
  "language_info": {
   "codemirror_mode": {
    "name": "ipython",
    "version": 3
   },
   "file_extension": ".py",
   "mimetype": "text/x-python",
   "name": "python",
   "nbconvert_exporter": "python",
   "pygments_lexer": "ipython3",
   "version": "3.9.16"
  }
 },
 "nbformat": 4,
 "nbformat_minor": 5
}