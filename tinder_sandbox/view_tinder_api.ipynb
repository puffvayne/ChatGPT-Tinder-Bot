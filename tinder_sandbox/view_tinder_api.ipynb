{
 "cells": [
  {
   "cell_type": "code",
   "execution_count": 7,
   "id": "1d51ce4e-3090-4ff7-8864-91332ad85a6d",
   "metadata": {},
   "outputs": [
    {
     "name": "stdout",
     "output_type": "stream",
     "text": [
      "[INFO] - append directory to path: D:\\Dev\\Code\\ChatGPT-Tinder-Bot\n"
     ]
    }
   ],
   "source": [
    "import sys\n",
    "import pathlib\n",
    "CURR_DIR = pathlib.Path().resolve()\n",
    "PROJECT_DIR = CURR_DIR.parent\n",
    "sys.path.append(str(PROJECT_DIR))\n",
    "print(f\"[INFO] - append directory to path: {PROJECT_DIR}\")"
   ]
  },
  {
   "cell_type": "code",
   "execution_count": 8,
   "id": "72699180-2572-475f-921d-c2fe58a8aa67",
   "metadata": {},
   "outputs": [],
   "source": [
    "from src.tinder import TinderAPI, TINDER_URL\n",
    "import requests"
   ]
  },
  {
   "cell_type": "code",
   "execution_count": 9,
   "id": "b2b525f8-e518-4bb8-b33d-7cf19983478e",
   "metadata": {},
   "outputs": [],
   "source": [
    "token = ''\n",
    "tinder_api = TinderAPI(token)"
   ]
  },
  {
   "attachments": {},
   "cell_type": "markdown",
   "id": "84bea9d7",
   "metadata": {},
   "source": [
    "# view remaining likes"
   ]
  },
  {
   "cell_type": "code",
   "execution_count": 10,
   "id": "7cf48e78",
   "metadata": {},
   "outputs": [
    {
     "data": {
      "text/plain": "100"
     },
     "execution_count": 10,
     "metadata": {},
     "output_type": "execute_result"
    }
   ],
   "source": [
    "tinder_api.get_remaining_likes()"
   ]
  },
  {
   "cell_type": "markdown",
   "source": [
    "# view messages of all matches"
   ],
   "metadata": {
    "collapsed": false
   }
  },
  {
   "cell_type": "code",
   "execution_count": 11,
   "id": "eff353fd-a92b-4ec2-b4bd-b06d376aa28c",
   "metadata": {},
   "outputs": [],
   "source": [
    "for match in tinder_api.get_matches(60):\n",
    "    chatroom = tinder_api.get_chatroom(match)\n",
    "\n",
    "\n",
    "    break"
   ]
  },
  {
   "cell_type": "code",
   "execution_count": 12,
   "outputs": [
    {
     "data": {
      "text/plain": "Chatroom: 629b809ebea8290100b262d863b33c5f07fbca0100fd9869 with Person: 63b33c5f07fbca0100fd9869 - Hana (Unknown, -1 km) (1998.05.05)"
     },
     "execution_count": 12,
     "metadata": {},
     "output_type": "execute_result"
    }
   ],
   "source": [
    "chatroom"
   ],
   "metadata": {
    "collapsed": false,
    "pycharm": {
     "name": "#%%\n"
    }
   }
  },
  {
   "cell_type": "code",
   "execution_count": 13,
   "outputs": [
    {
     "data": {
      "text/plain": "[]"
     },
     "execution_count": 13,
     "metadata": {},
     "output_type": "execute_result"
    }
   ],
   "source": [
    "chatroom.messages"
   ],
   "metadata": {
    "collapsed": false,
    "pycharm": {
     "name": "#%%\n"
    }
   }
  },
  {
   "cell_type": "code",
   "execution_count": 14,
   "outputs": [],
   "source": [
    "chatroom.get_latest_message()"
   ],
   "metadata": {
    "collapsed": false,
    "pycharm": {
     "name": "#%%\n"
    }
   }
  },
  {
   "cell_type": "markdown",
   "source": [
    "# Ask hook up"
   ],
   "metadata": {
    "collapsed": false
   }
  },
  {
   "cell_type": "code",
   "execution_count": 14,
   "outputs": [],
   "source": [
    "for match in tinder_api.get_matches(limit=60):\n",
    "    chatroom = tinder_api.get_chatroom(match)\n",
    "    if len(chatroom.messages) == 0:\n",
    "        print(chatroom)"
   ],
   "metadata": {
    "collapsed": false,
    "pycharm": {
     "name": "#%%\n"
    }
   }
  },
  {
   "cell_type": "code",
   "execution_count": null,
   "outputs": [],
   "source": [],
   "metadata": {
    "collapsed": false,
    "pycharm": {
     "name": "#%%\n"
    }
   }
  }
 ],
 "metadata": {
  "kernelspec": {
   "display_name": "gtbot",
   "language": "python",
   "name": "python3"
  },
  "language_info": {
   "codemirror_mode": {
    "name": "ipython",
    "version": 3
   },
   "file_extension": ".py",
   "mimetype": "text/x-python",
   "name": "python",
   "nbconvert_exporter": "python",
   "pygments_lexer": "ipython3",
   "version": "3.9.16"
  }
 },
 "nbformat": 4,
 "nbformat_minor": 5
}